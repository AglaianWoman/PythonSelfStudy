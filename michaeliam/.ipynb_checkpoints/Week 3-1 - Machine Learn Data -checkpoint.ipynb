{
 "cells": [
  {
   "cell_type": "markdown",
   "metadata": {},
   "source": [
    "# Predictive Analysis"
   ]
  },
  {
   "cell_type": "code",
   "execution_count": 10,
   "metadata": {
    "collapsed": true
   },
   "outputs": [],
   "source": [
    "#Using Penalty data set to determine if there is an association between the race of a victim vs the race of the defendant\n",
    "\n",
    "import pandas as pd\n",
    "import numpy as np\n",
    "import sklearn\n",
    "import matplotlib\n",
    "%matplotlib inline\n",
    "import matplotlib.pyplot as plt\n",
    "matplotlib.style.use('ggplot')\n"
   ]
  },
  {
   "cell_type": "code",
   "execution_count": 4,
   "metadata": {
    "collapsed": false
   },
   "outputs": [
    {
     "name": "stdout",
     "output_type": "stream",
     "text": [
      "   death  blackd  whitvic  serious  culp  serious2      slogs\n",
      "0      0       1        0      7.1     2  3.400000  13.916673\n",
      "1      1       0        1     11.5     5  4.666667  28.086991\n",
      "2      0       0        0      6.0     2  3.000000  10.750557\n",
      "3      0       0        1      8.4     4  3.200000  17.877146\n",
      "4      1       1        0     12.2     5  4.200000  30.517519\n"
     ]
    }
   ],
   "source": [
    "Data = pd.read_csv('./Penalty.csv', header=0)\n",
    "print (Data.head())"
   ]
  },
  {
   "cell_type": "code",
   "execution_count": 8,
   "metadata": {
    "collapsed": false
   },
   "outputs": [
    {
     "data": {
      "text/html": [
       "<div>\n",
       "<table border=\"1\" class=\"dataframe\">\n",
       "  <thead>\n",
       "    <tr style=\"text-align: right;\">\n",
       "      <th></th>\n",
       "      <th>death</th>\n",
       "      <th>blackd</th>\n",
       "      <th>whitvic</th>\n",
       "      <th>serious</th>\n",
       "      <th>culp</th>\n",
       "      <th>serious2</th>\n",
       "      <th>slogs</th>\n",
       "    </tr>\n",
       "  </thead>\n",
       "  <tbody>\n",
       "    <tr>\n",
       "      <th>count</th>\n",
       "      <td>147.000000</td>\n",
       "      <td>147.000000</td>\n",
       "      <td>147.000000</td>\n",
       "      <td>147.000000</td>\n",
       "      <td>147.000000</td>\n",
       "      <td>147.000000</td>\n",
       "      <td>147.000000</td>\n",
       "    </tr>\n",
       "    <tr>\n",
       "      <th>mean</th>\n",
       "      <td>0.340136</td>\n",
       "      <td>0.496599</td>\n",
       "      <td>0.598639</td>\n",
       "      <td>7.878912</td>\n",
       "      <td>2.299320</td>\n",
       "      <td>3.347506</td>\n",
       "      <td>16.965254</td>\n",
       "    </tr>\n",
       "    <tr>\n",
       "      <th>std</th>\n",
       "      <td>0.475374</td>\n",
       "      <td>0.501698</td>\n",
       "      <td>0.491850</td>\n",
       "      <td>3.194880</td>\n",
       "      <td>1.541281</td>\n",
       "      <td>0.936576</td>\n",
       "      <td>9.536581</td>\n",
       "    </tr>\n",
       "    <tr>\n",
       "      <th>min</th>\n",
       "      <td>0.000000</td>\n",
       "      <td>0.000000</td>\n",
       "      <td>0.000000</td>\n",
       "      <td>1.400000</td>\n",
       "      <td>1.000000</td>\n",
       "      <td>1.000000</td>\n",
       "      <td>0.471061</td>\n",
       "    </tr>\n",
       "    <tr>\n",
       "      <th>25%</th>\n",
       "      <td>0.000000</td>\n",
       "      <td>0.000000</td>\n",
       "      <td>0.000000</td>\n",
       "      <td>5.300000</td>\n",
       "      <td>1.000000</td>\n",
       "      <td>2.600000</td>\n",
       "      <td>8.838846</td>\n",
       "    </tr>\n",
       "    <tr>\n",
       "      <th>50%</th>\n",
       "      <td>0.000000</td>\n",
       "      <td>0.000000</td>\n",
       "      <td>1.000000</td>\n",
       "      <td>8.000000</td>\n",
       "      <td>2.000000</td>\n",
       "      <td>3.400000</td>\n",
       "      <td>16.635532</td>\n",
       "    </tr>\n",
       "    <tr>\n",
       "      <th>75%</th>\n",
       "      <td>1.000000</td>\n",
       "      <td>1.000000</td>\n",
       "      <td>1.000000</td>\n",
       "      <td>10.191667</td>\n",
       "      <td>4.000000</td>\n",
       "      <td>4.000000</td>\n",
       "      <td>23.661247</td>\n",
       "    </tr>\n",
       "    <tr>\n",
       "      <th>max</th>\n",
       "      <td>1.000000</td>\n",
       "      <td>1.000000</td>\n",
       "      <td>1.000000</td>\n",
       "      <td>13.800000</td>\n",
       "      <td>5.000000</td>\n",
       "      <td>5.000000</td>\n",
       "      <td>36.220427</td>\n",
       "    </tr>\n",
       "  </tbody>\n",
       "</table>\n",
       "</div>"
      ],
      "text/plain": [
       "            death      blackd     whitvic     serious        culp    serious2  \\\n",
       "count  147.000000  147.000000  147.000000  147.000000  147.000000  147.000000   \n",
       "mean     0.340136    0.496599    0.598639    7.878912    2.299320    3.347506   \n",
       "std      0.475374    0.501698    0.491850    3.194880    1.541281    0.936576   \n",
       "min      0.000000    0.000000    0.000000    1.400000    1.000000    1.000000   \n",
       "25%      0.000000    0.000000    0.000000    5.300000    1.000000    2.600000   \n",
       "50%      0.000000    0.000000    1.000000    8.000000    2.000000    3.400000   \n",
       "75%      1.000000    1.000000    1.000000   10.191667    4.000000    4.000000   \n",
       "max      1.000000    1.000000    1.000000   13.800000    5.000000    5.000000   \n",
       "\n",
       "            slogs  \n",
       "count  147.000000  \n",
       "mean    16.965254  \n",
       "std      9.536581  \n",
       "min      0.471061  \n",
       "25%      8.838846  \n",
       "50%     16.635532  \n",
       "75%     23.661247  \n",
       "max     36.220427  "
      ]
     },
     "execution_count": 8,
     "metadata": {},
     "output_type": "execute_result"
    }
   ],
   "source": [
    "Data.describe()"
   ]
  },
  {
   "cell_type": "code",
   "execution_count": 9,
   "metadata": {
    "collapsed": false
   },
   "outputs": [
    {
     "data": {
      "text/plain": [
       "dtype('int64')"
      ]
     },
     "execution_count": 9,
     "metadata": {},
     "output_type": "execute_result"
    }
   ],
   "source": [
    "Data['death'].dtype"
   ]
  },
  {
   "cell_type": "code",
   "execution_count": 11,
   "metadata": {
    "collapsed": true
   },
   "outputs": [],
   "source": [
    "#Setting 'death' as the target variable and applying logistic regression\n",
    "from sklearn.linear_model import LogisticRegression"
   ]
  },
  {
   "cell_type": "code",
   "execution_count": 15,
   "metadata": {
    "collapsed": false
   },
   "outputs": [
    {
     "name": "stdout",
     "output_type": "stream",
     "text": [
      "   death\n",
      "0      0\n",
      "1      1\n",
      "2      0\n",
      "3      0\n",
      "4      1\n"
     ]
    }
   ],
   "source": [
    "Target = Data.get(['death'])\n",
    "print Target.head()"
   ]
  },
  {
   "cell_type": "code",
   "execution_count": 16,
   "metadata": {
    "collapsed": false
   },
   "outputs": [
    {
     "name": "stdout",
     "output_type": "stream",
     "text": [
      "   blackd  whitvic  serious  culp\n",
      "0       1        0      7.1     2\n",
      "1       0        1     11.5     5\n",
      "2       0        0      6.0     2\n",
      "3       0        1      8.4     4\n",
      "4       1        0     12.2     5\n"
     ]
    }
   ],
   "source": [
    "X=Data.get(['blackd','whitvic','serious','culp'])\n",
    "print X.head()"
   ]
  },
  {
   "cell_type": "code",
   "execution_count": 17,
   "metadata": {
    "collapsed": false
   },
   "outputs": [
    {
     "name": "stderr",
     "output_type": "stream",
     "text": [
      "C:\\Users\\mimclean\\AppData\\Local\\Continuum\\Anaconda2\\lib\\site-packages\\sklearn\\utils\\validation.py:515: DataConversionWarning: A column-vector y was passed when a 1d array was expected. Please change the shape of y to (n_samples, ), for example using ravel().\n",
      "  y = column_or_1d(y, warn=True)\n"
     ]
    }
   ],
   "source": [
    "model = LogisticRegression()\n",
    "model = model.fit(X, Target)"
   ]
  },
  {
   "cell_type": "code",
   "execution_count": 18,
   "metadata": {
    "collapsed": false
   },
   "outputs": [
    {
     "data": {
      "text/plain": [
       "0.84353741496598644"
      ]
     },
     "execution_count": 18,
     "metadata": {},
     "output_type": "execute_result"
    }
   ],
   "source": [
    "model.score(X, Target)"
   ]
  },
  {
   "cell_type": "code",
   "execution_count": 19,
   "metadata": {
    "collapsed": false
   },
   "outputs": [
    {
     "data": {
      "text/html": [
       "<div>\n",
       "<table border=\"1\" class=\"dataframe\">\n",
       "  <thead>\n",
       "    <tr style=\"text-align: right;\">\n",
       "      <th></th>\n",
       "      <th>0</th>\n",
       "      <th>1</th>\n",
       "    </tr>\n",
       "  </thead>\n",
       "  <tbody>\n",
       "    <tr>\n",
       "      <th>0</th>\n",
       "      <td>blackd</td>\n",
       "      <td>[0.62088731707]</td>\n",
       "    </tr>\n",
       "    <tr>\n",
       "      <th>1</th>\n",
       "      <td>whitvic</td>\n",
       "      <td>[0.111226200128]</td>\n",
       "    </tr>\n",
       "    <tr>\n",
       "      <th>2</th>\n",
       "      <td>serious</td>\n",
       "      <td>[-0.0995962182559]</td>\n",
       "    </tr>\n",
       "    <tr>\n",
       "      <th>3</th>\n",
       "      <td>culp</td>\n",
       "      <td>[1.0515786621]</td>\n",
       "    </tr>\n",
       "  </tbody>\n",
       "</table>\n",
       "</div>"
      ],
      "text/plain": [
       "         0                   1\n",
       "0   blackd     [0.62088731707]\n",
       "1  whitvic    [0.111226200128]\n",
       "2  serious  [-0.0995962182559]\n",
       "3     culp      [1.0515786621]"
      ]
     },
     "execution_count": 19,
     "metadata": {},
     "output_type": "execute_result"
    }
   ],
   "source": [
    "# To get the coefficients of the model\n",
    "pd.DataFrame(zip(X.columns, np.transpose(model.coef_)))"
   ]
  },
  {
   "cell_type": "code",
   "execution_count": 21,
   "metadata": {
    "collapsed": false
   },
   "outputs": [
    {
     "name": "stderr",
     "output_type": "stream",
     "text": [
      "C:\\Users\\mimclean\\AppData\\Local\\Continuum\\Anaconda2\\lib\\site-packages\\sklearn\\utils\\validation.py:515: DataConversionWarning: A column-vector y was passed when a 1d array was expected. Please change the shape of y to (n_samples, ), for example using ravel().\n",
      "  y = column_or_1d(y, warn=True)\n"
     ]
    },
    {
     "data": {
      "text/plain": [
       "LogisticRegression(C=1.0, class_weight=None, dual=False, fit_intercept=True,\n",
       "          intercept_scaling=1, max_iter=100, multi_class='ovr', n_jobs=1,\n",
       "          penalty='l2', random_state=None, solver='liblinear', tol=0.0001,\n",
       "          verbose=0, warm_start=False)"
      ]
     },
     "execution_count": 21,
     "metadata": {},
     "output_type": "execute_result"
    }
   ],
   "source": [
    "from sklearn.cross_validation import train_test_split\n",
    "# 80% train, 20% validation\n",
    "X_train, X_test, y_train, y_test = train_test_split(X, Target, test_size=0.2, random_state=0)\n",
    "model2 = LogisticRegression()\n",
    "model2.fit(X_train, y_train)"
   ]
  },
  {
   "cell_type": "code",
   "execution_count": 22,
   "metadata": {
    "collapsed": false
   },
   "outputs": [
    {
     "name": "stdout",
     "output_type": "stream",
     "text": [
      "[1 0 0 0 1 0 0 0 0 0 0 1 0 0 1 0 0 1 1 0 1 0 1 0 0 0 0 0 0 1]\n"
     ]
    }
   ],
   "source": [
    "predicted = model2.predict(X_test)\n",
    "print predicted"
   ]
  },
  {
   "cell_type": "code",
   "execution_count": 24,
   "metadata": {
    "collapsed": false
   },
   "outputs": [
    {
     "name": "stdout",
     "output_type": "stream",
     "text": [
      "[[ 0.20285716  0.79714284]\n",
      " [ 0.90670893  0.09329107]\n",
      " [ 0.88644654  0.11355346]\n",
      " [ 0.82190353  0.17809647]\n",
      " [ 0.09247309  0.90752691]\n",
      " [ 0.64111192  0.35888808]\n",
      " [ 0.65354243  0.34645757]\n",
      " [ 0.89426536  0.10573464]\n",
      " [ 0.89049128  0.10950872]\n",
      " [ 0.81028107  0.18971893]\n",
      " [ 0.85105792  0.14894208]\n",
      " [ 0.11889087  0.88110913]\n",
      " [ 0.84474869  0.15525131]\n",
      " [ 0.79138495  0.20861505]\n",
      " [ 0.21827104  0.78172896]\n",
      " [ 0.77336118  0.22663882]\n",
      " [ 0.82895316  0.17104684]\n",
      " [ 0.19707416  0.80292584]\n",
      " [ 0.25010172  0.74989828]\n",
      " [ 0.87137196  0.12862804]\n",
      " [ 0.34141522  0.65858478]\n",
      " [ 0.81727454  0.18272546]\n",
      " [ 0.32361019  0.67638981]\n",
      " [ 0.89002382  0.10997618]\n",
      " [ 0.82747806  0.17252194]\n",
      " [ 0.74947995  0.25052005]\n",
      " [ 0.82711757  0.17288243]\n",
      " [ 0.81951583  0.18048417]\n",
      " [ 0.92156442  0.07843558]\n",
      " [ 0.17710044  0.82289956]]\n",
      "0.8\n",
      "0.837320574163\n"
     ]
    }
   ],
   "source": [
    "from sklearn import metrics\n",
    "\n",
    "probs = model2.predict_proba(X_test)\n",
    "print probs\n",
    "\n",
    "print metrics.accuracy_score(y_test, predicted)\n",
    "print metrics.roc_auc_score(y_test, probs[:, 1])"
   ]
  },
  {
   "cell_type": "code",
   "execution_count": 25,
   "metadata": {
    "collapsed": false
   },
   "outputs": [
    {
     "name": "stderr",
     "output_type": "stream",
     "text": [
      "C:\\Users\\mimclean\\AppData\\Local\\Continuum\\Anaconda2\\lib\\site-packages\\matplotlib\\axes\\_axes.py:519: UserWarning: No labelled objects found. Use label='...' kwarg on individual plots.\n",
      "  warnings.warn(\"No labelled objects found. \"\n"
     ]
    },
    {
     "data": {
      "image/png": "[encoded data removed]",
      "text/plain": [
       "<matplotlib.figure.Figure at 0xcf48828>"
      ]
     },
     "metadata": {},
     "output_type": "display_data"
    }
   ],
   "source": [
    "from sklearn.metrics import roc_curve as sk_roc_curve\n",
    "import matplotlib.pyplot as pl\n",
    "%matplotlib inline\n",
    "\n",
    "def plot(y_test, predicted):\n",
    "    fpr, tpr, thresholds = sk_roc_curve(y_test, predicted)\n",
    "    \n",
    "    # Plot ROC curve\n",
    "    pl.clf()\n",
    "    pl.plot(fpr, tpr, \"r\")\n",
    "    pl.plot([0, 1], [0, 1], 'k--')\n",
    "    pl.xlim([0.0, 1.0])\n",
    "    pl.ylim([0.0, 1.0])\n",
    "    pl.xlabel('False Positive Rate')\n",
    "    pl.ylabel('True Positive Rate')\n",
    "    pl.title('Receiver operating characteristic')\n",
    "    pl.legend(loc=\"lower right\")\n",
    "    pl.show()\n",
    "\n",
    "plot(y_test, probs[:, 1])"
   ]
  },
  {
   "cell_type": "code",
   "execution_count": 26,
   "metadata": {
    "collapsed": false
   },
   "outputs": [
    {
     "name": "stdout",
     "output_type": "stream",
     "text": [
      "[[17  2]\n",
      " [ 4  7]]\n",
      "             precision    recall  f1-score   support\n",
      "\n",
      "          0       0.81      0.89      0.85        19\n",
      "          1       0.78      0.64      0.70        11\n",
      "\n",
      "avg / total       0.80      0.80      0.80        30\n",
      "\n"
     ]
    }
   ],
   "source": [
    "print metrics.confusion_matrix(y_test, predicted)\n",
    "print metrics.classification_report(y_test, predicted)"
   ]
  },
  {
   "cell_type": "code",
   "execution_count": 27,
   "metadata": {
    "collapsed": false
   },
   "outputs": [
    {
     "name": "stdout",
     "output_type": "stream",
     "text": [
      "   blackd  whitvic      slogs  culp\n",
      "0       1        0  13.916673     2\n",
      "1       0        1  28.086991     5\n",
      "2       0        0  10.750557     2\n",
      "3       0        1  17.877146     4\n",
      "4       1        0  30.517519     5\n"
     ]
    }
   ],
   "source": [
    "# Using the log of the 'serious' variable as a predictor instead of 'serious'\n",
    "X2=Data.get(['blackd','whitvic','slogs','culp'])\n",
    "print X2.head()"
   ]
  },
  {
   "cell_type": "code",
   "execution_count": 28,
   "metadata": {
    "collapsed": false
   },
   "outputs": [
    {
     "data": {
      "text/plain": [
       "0.80272108843537415"
      ]
     },
     "execution_count": 28,
     "metadata": {},
     "output_type": "execute_result"
    }
   ],
   "source": [
    "model.score(X2, Target)"
   ]
  },
  {
   "cell_type": "code",
   "execution_count": 29,
   "metadata": {
    "collapsed": false
   },
   "outputs": [
    {
     "data": {
      "text/html": [
       "<div>\n",
       "<table border=\"1\" class=\"dataframe\">\n",
       "  <thead>\n",
       "    <tr style=\"text-align: right;\">\n",
       "      <th></th>\n",
       "      <th>0</th>\n",
       "      <th>1</th>\n",
       "    </tr>\n",
       "  </thead>\n",
       "  <tbody>\n",
       "    <tr>\n",
       "      <th>0</th>\n",
       "      <td>blackd</td>\n",
       "      <td>[0.62088731707]</td>\n",
       "    </tr>\n",
       "    <tr>\n",
       "      <th>1</th>\n",
       "      <td>whitvic</td>\n",
       "      <td>[0.111226200128]</td>\n",
       "    </tr>\n",
       "    <tr>\n",
       "      <th>2</th>\n",
       "      <td>slogs</td>\n",
       "      <td>[-0.0995962182559]</td>\n",
       "    </tr>\n",
       "    <tr>\n",
       "      <th>3</th>\n",
       "      <td>culp</td>\n",
       "      <td>[1.0515786621]</td>\n",
       "    </tr>\n",
       "  </tbody>\n",
       "</table>\n",
       "</div>"
      ],
      "text/plain": [
       "         0                   1\n",
       "0   blackd     [0.62088731707]\n",
       "1  whitvic    [0.111226200128]\n",
       "2    slogs  [-0.0995962182559]\n",
       "3     culp      [1.0515786621]"
      ]
     },
     "execution_count": 29,
     "metadata": {},
     "output_type": "execute_result"
    }
   ],
   "source": [
    "pd.DataFrame(zip(X2.columns, np.transpose(model.coef_)))"
   ]
  },
  {
   "cell_type": "code",
   "execution_count": 30,
   "metadata": {
    "collapsed": false
   },
   "outputs": [
    {
     "name": "stderr",
     "output_type": "stream",
     "text": [
      "C:\\Users\\mimclean\\AppData\\Local\\Continuum\\Anaconda2\\lib\\site-packages\\sklearn\\utils\\validation.py:515: DataConversionWarning: A column-vector y was passed when a 1d array was expected. Please change the shape of y to (n_samples, ), for example using ravel().\n",
      "  y = column_or_1d(y, warn=True)\n"
     ]
    },
    {
     "data": {
      "text/plain": [
       "LogisticRegression(C=1.0, class_weight=None, dual=False, fit_intercept=True,\n",
       "          intercept_scaling=1, max_iter=100, multi_class='ovr', n_jobs=1,\n",
       "          penalty='l2', random_state=None, solver='liblinear', tol=0.0001,\n",
       "          verbose=0, warm_start=False)"
      ]
     },
     "execution_count": 30,
     "metadata": {},
     "output_type": "execute_result"
    }
   ],
   "source": [
    "X2_train, X2_test, y2_train, y2_test = train_test_split(X2, Target, test_size=0.2, random_state=0)\n",
    "model3 = LogisticRegression()\n",
    "model3.fit(X2_train, y2_train)"
   ]
  },
  {
   "cell_type": "code",
   "execution_count": 31,
   "metadata": {
    "collapsed": false
   },
   "outputs": [
    {
     "name": "stdout",
     "output_type": "stream",
     "text": [
      "[1 0 0 0 1 0 0 0 0 0 0 1 0 0 1 0 0 1 1 0 1 0 1 0 0 0 0 0 0 1]\n"
     ]
    }
   ],
   "source": [
    "predicted_new = model3.predict(X2_test)\n",
    "print predicted_new"
   ]
  },
  {
   "cell_type": "code",
   "execution_count": 32,
   "metadata": {
    "collapsed": false
   },
   "outputs": [
    {
     "name": "stdout",
     "output_type": "stream",
     "text": [
      "[[ 0.20175607  0.79824393]\n",
      " [ 0.88723366  0.11276634]\n",
      " [ 0.86986062  0.13013938]\n",
      " [ 0.79294112  0.20705888]\n",
      " [ 0.11322091  0.88677909]\n",
      " [ 0.65853397  0.34146603]\n",
      " [ 0.62829148  0.37170852]\n",
      " [ 0.88685392  0.11314608]\n",
      " [ 0.8731774   0.1268226 ]\n",
      " [ 0.84422158  0.15577842]\n",
      " [ 0.84865945  0.15134055]\n",
      " [ 0.12350103  0.87649897]\n",
      " [ 0.83970333  0.16029667]\n",
      " [ 0.7761123   0.2238877 ]\n",
      " [ 0.25148938  0.74851062]\n",
      " [ 0.7454517   0.2545483 ]\n",
      " [ 0.80694595  0.19305405]\n",
      " [ 0.23735666  0.76264334]\n",
      " [ 0.25395918  0.74604082]\n",
      " [ 0.85812713  0.14187287]\n",
      " [ 0.34161075  0.65838925]\n",
      " [ 0.82769411  0.17230589]\n",
      " [ 0.37794372  0.62205628]\n",
      " [ 0.87784517  0.12215483]\n",
      " [ 0.84984894  0.15015106]\n",
      " [ 0.73550648  0.26449352]\n",
      " [ 0.80536461  0.19463539]\n",
      " [ 0.84699906  0.15300094]\n",
      " [ 0.90842372  0.09157628]\n",
      " [ 0.18063683  0.81936317]]\n",
      "0.8\n",
      "0.842105263158\n"
     ]
    }
   ],
   "source": [
    "probs_new = model3.predict_proba(X2_test)\n",
    "print probs_new\n",
    "\n",
    "print metrics.accuracy_score(y2_test, predicted_new)\n",
    "print metrics.roc_auc_score(y2_test, probs_new[:, 1])"
   ]
  },
  {
   "cell_type": "code",
   "execution_count": 33,
   "metadata": {
    "collapsed": false
   },
   "outputs": [
    {
     "data": {
      "image/png": "[encoded data removed]",
      "text/plain": [
       "<matplotlib.figure.Figure at 0xcea84e0>"
      ]
     },
     "metadata": {},
     "output_type": "display_data"
    }
   ],
   "source": [
    "def plot(y2_test, predicted_new):\n",
    "    fpr, tpr, thresholds = sk_roc_curve(y2_test, predicted_new)\n",
    "    \n",
    "    # Plot ROC curve\n",
    "    pl.clf()\n",
    "    pl.plot(fpr, tpr, \"r\")\n",
    "    pl.plot([0, 1], [0, 1], 'k--')\n",
    "    pl.xlim([0.0, 1.0])\n",
    "    pl.ylim([0.0, 1.0])\n",
    "    pl.xlabel('False Positive Rate')\n",
    "    pl.ylabel('True Positive Rate')\n",
    "    pl.title('Receiver operating characteristic 2')\n",
    "    pl.legend(loc=\"lower right\")\n",
    "    pl.show()\n",
    "\n",
    "plot(y2_test, probs_new[:, 1])"
   ]
  },
  {
   "cell_type": "code",
   "execution_count": 34,
   "metadata": {
    "collapsed": false
   },
   "outputs": [
    {
     "name": "stdout",
     "output_type": "stream",
     "text": [
      "[[17  2]\n",
      " [ 4  7]]\n",
      "             precision    recall  f1-score   support\n",
      "\n",
      "          0       0.81      0.89      0.85        19\n",
      "          1       0.78      0.64      0.70        11\n",
      "\n",
      "avg / total       0.80      0.80      0.80        30\n",
      "\n"
     ]
    }
   ],
   "source": [
    "print metrics.confusion_matrix(y2_test, predicted_new)\n",
    "print metrics.classification_report(y2_test, predicted_new)"
   ]
  },
  {
   "cell_type": "code",
   "execution_count": null,
   "metadata": {
    "collapsed": true
   },
   "outputs": [],
   "source": []
  }
 ],
 "metadata": {
  "kernelspec": {
   "display_name": "Python 2",
   "language": "python",
   "name": "python2"
  },
  "language_info": {
   "codemirror_mode": {
    "name": "ipython",
    "version": 2
   },
   "file_extension": ".py",
   "mimetype": "text/x-python",
   "name": "python",
   "nbconvert_exporter": "python",
   "pygments_lexer": "ipython2",
   "version": "2.7.11"
  }
 },
 "nbformat": 4,
 "nbformat_minor": 0
}
