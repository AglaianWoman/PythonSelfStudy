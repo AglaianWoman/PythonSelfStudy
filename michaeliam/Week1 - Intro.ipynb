{
 "cells": [
  {
   "cell_type": "markdown",
   "metadata": {},
   "source": [
    "# Getting Started\n",
    "\n",
    "- Write code to be executed in the Code cell. To run code, use Cell -> Run or 'Shift+Enter'\n",
    "- The Markdown cell is a rich text format that may be used to capture the code description \n",
    "- To illustrate mathematical operations in a Markdown cell, use the LaTex notation - '$...$' for inline mathematics or '$$..$$' for displayed mathematics.\n",
    "- Shortcut Keyboard keys:\n",
    "    1. Shift+Enter - executes the current cell and displays output, then jumps to the next cell below\n",
    "    2. Ctrl+Enter - runs cell in place, that is it executes the current cell, displays output but cursor remains in   that cell\n",
    "    3. Atl+Enter - executes current cell, displays output and inserts a cell between the current cell and the cell with the output   \n"
   ]
  },
  {
   "cell_type": "markdown",
   "metadata": {},
   "source": [
    "# Import Data"
   ]
  },
  {
   "cell_type": "code",
   "execution_count": 1,
   "metadata": {
    "collapsed": false
   },
   "outputs": [
    {
     "name": "stdout",
     "output_type": "stream",
     "text": [
      "           id date_account_created  timestamp_first_active date_first_booking  \\\n",
      "0  gxn3p5htnn           2010-06-28          20090319043255                NaN   \n",
      "1  820tgsjxq7           2011-05-25          20090523174809                NaN   \n",
      "2  4ft3gnwmtx           2010-09-28          20090609231247         2010-08-02   \n",
      "3  bjjt8pjhuk           2011-12-05          20091031060129         2012-09-08   \n",
      "4  87mebub9p4           2010-09-14          20091208061105         2010-02-18   \n",
      "\n",
      "      gender  age signup_method  signup_flow language affiliate_channel  \\\n",
      "0  -unknown-  NaN      facebook            0       en            direct   \n",
      "1       MALE   38      facebook            0       en               seo   \n",
      "2     FEMALE   56         basic            3       en            direct   \n",
      "3     FEMALE   42      facebook            0       en            direct   \n",
      "4  -unknown-   41         basic            0       en            direct   \n",
      "\n",
      "  affiliate_provider first_affiliate_tracked signup_app first_device_type  \\\n",
      "0             direct               untracked        Web       Mac Desktop   \n",
      "1             google               untracked        Web       Mac Desktop   \n",
      "2             direct               untracked        Web   Windows Desktop   \n",
      "3             direct               untracked        Web       Mac Desktop   \n",
      "4             direct               untracked        Web       Mac Desktop   \n",
      "\n",
      "  first_browser country_destination  \n",
      "0        Chrome                 NDF  \n",
      "1        Chrome                 NDF  \n",
      "2            IE                  US  \n",
      "3       Firefox               other  \n",
      "4        Chrome                  US  \n"
     ]
    }
   ],
   "source": [
    "import numpy as np\n",
    "import pandas as pd\n",
    "\n",
    "df=pd.read_csv('C:\\Users\\mimclean\\Desktop\\Python Training Data\\Airbnb_train.csv')\n",
    "print(df.head())\n"
   ]
  },
  {
   "cell_type": "markdown",
   "metadata": {
    "collapsed": true
   },
   "source": [
    "# Hello, World!\n"
   ]
  },
  {
   "cell_type": "code",
   "execution_count": 1,
   "metadata": {
    "collapsed": false
   },
   "outputs": [
    {
     "name": "stdout",
     "output_type": "stream",
     "text": [
      "Hello, World!\n"
     ]
    }
   ],
   "source": [
    "print \"Hello, World!\""
   ]
  },
  {
   "cell_type": "code",
   "execution_count": 7,
   "metadata": {
    "collapsed": true
   },
   "outputs": [],
   "source": [
    "import requests\n",
    "import pandas as pd\n",
    "import StringIO"
   ]
  },
  {
   "cell_type": "markdown",
   "metadata": {
    "collapsed": true
   },
   "source": [
    "df1=pd.read_csv('C:\\Users\\mimclean\\Desktop\\Python Training Data\\Consumer_Complaints.csv')\n",
    "print (df1.head())"
   ]
  },
  {
   "cell_type": "code",
   "execution_count": 6,
   "metadata": {
    "collapsed": false
   },
   "outputs": [
    {
     "name": "stdout",
     "output_type": "stream",
     "text": [
      "  Date received           Product                            Sub-product  \\\n",
      "0     2/13/2016  Credit reporting                                    NaN   \n",
      "1     2/12/2016   Debt collection               Non-federal student loan   \n",
      "2     2/12/2016   Debt collection  Other (i.e. phone, health club, etc.)   \n",
      "3     2/12/2016  Credit reporting                                    NaN   \n",
      "4     2/12/2016  Credit reporting                                    NaN   \n",
      "\n",
      "                                    Issue  \\\n",
      "0  Incorrect information on credit report   \n",
      "1         Disclosure verification of debt   \n",
      "2     Improper contact or sharing of info   \n",
      "3  Incorrect information on credit report   \n",
      "4  Incorrect information on credit report   \n",
      "\n",
      "                                Sub-issue Consumer complaint narrative  \\\n",
      "0                 Information is not mine                          NaN   \n",
      "1  Not disclosed as an attempt to collect                          NaN   \n",
      "2   Talked to a third party about my debt                          NaN   \n",
      "3                          Account status                          NaN   \n",
      "4                 Information is not mine                          NaN   \n",
      "\n",
      "                             Company public response  \\\n",
      "0  Company believes complaint caused principally ...   \n",
      "1                                                NaN   \n",
      "2                                                NaN   \n",
      "3  Company believes complaint caused principally ...   \n",
      "4  Company believes complaint caused principally ...   \n",
      "\n",
      "                         Company State ZIP code Submitted via  \\\n",
      "0             Credit Karma, Inc.    NJ    076XX           Web   \n",
      "1      Solomon and Solomon, P.C.    NY    103XX           Web   \n",
      "2  Pinnacle Credit Services, LLC    ME    044XX           Web   \n",
      "3             Credit Karma, Inc.    TX    752XX           Web   \n",
      "4             Credit Karma, Inc.    MA    010XX           Web   \n",
      "\n",
      "  Date sent to company     Company response to consumer Timely response?  \\\n",
      "0            2/13/2016          Closed with explanation              Yes   \n",
      "1            2/12/2016  Closed with non-monetary relief              Yes   \n",
      "2            2/12/2016                           Closed              Yes   \n",
      "3            2/12/2016          Closed with explanation              Yes   \n",
      "4            2/12/2016          Closed with explanation              Yes   \n",
      "\n",
      "  Consumer disputed?  Complaint ID  \n",
      "0                 No       1785356  \n",
      "1                 No       1785707  \n",
      "2                 No       1786021  \n",
      "3                 No       1786660  \n",
      "4                 No       1785116  \n"
     ]
    }
   ],
   "source": [
    "df1=pd.read_csv('C:\\Users\\mimclean\\Desktop\\Python Training Data\\Consumer_Complaints.csv')\n",
    "print (df1.head())"
   ]
  },
  {
   "cell_type": "code",
   "execution_count": null,
   "metadata": {
    "collapsed": true
   },
   "outputs": [],
   "source": []
  }
 ],
 "metadata": {
  "kernelspec": {
   "display_name": "Python 2",
   "language": "python",
   "name": "python2"
  },
  "language_info": {
   "codemirror_mode": {
    "name": "ipython",
    "version": 2
   },
   "file_extension": ".py",
   "mimetype": "text/x-python",
   "name": "python",
   "nbconvert_exporter": "python",
   "pygments_lexer": "ipython2",
   "version": "2.7.11"
  }
 },
 "nbformat": 4,
 "nbformat_minor": 0
}
